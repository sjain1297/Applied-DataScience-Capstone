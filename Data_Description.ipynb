{
 "cells": [
  {
   "cell_type": "markdown",
   "metadata": {},
   "source": [
    "# The Battle of Neighborhoods | Data Description¶"
   ]
  },
  {
   "cell_type": "markdown",
   "metadata": {},
   "source": [
    "## Data Description:"
   ]
  },
  {
   "cell_type": "markdown",
   "metadata": {},
   "source": [
    "Data Link: https://en.wikipedia.org/wiki/List_of_postal_codes_of_Canada:_M\n",
    "\n",
    "After scrapping from wikipedia we will get:\n",
    " - Postal Code\n",
    " - Borough\n",
    " - Neighbourhood\n"
   ]
  },
  {
   "cell_type": "markdown",
   "metadata": {},
   "source": [
    "## Foursquare API Data:"
   ]
  },
  {
   "cell_type": "markdown",
   "metadata": {},
   "source": [
    " - We will need data about different venues in different neighborhoods of that specific borough. In order to gain that            information we will use \"Foursquare\" locational information.\n",
    " - The Foursquare Places API provides location based experiences with diverse information about venues, users, photos, and        check-ins. The API supports real time access to places, Snap-to-Place that assigns users to specific locations, and Geo-tag.\n",
    " - After finding the list of neighborhoods, we then connect to the Foursquare API to gather information about venues inside        each and every neighborhood.\n",
    " - We will obtain following information as per venue:\n",
    "   1. Neighborhood\n",
    "   2. Neighborhood Latitude\n",
    "   3. Neighborhood Longitude\n",
    "   4. Venue\n",
    "   5. Name of the venue e.g. the name of a store or restaurant\n",
    "   6. Venue Latitude\n",
    "   7. Venue Longitude\n",
    "   8. Venue Category\n",
    " \n"
   ]
  },
  {
   "cell_type": "code",
   "execution_count": null,
   "metadata": {},
   "outputs": [],
   "source": []
  }
 ],
 "metadata": {
  "kernelspec": {
   "display_name": "Python 3",
   "language": "python",
   "name": "python3"
  },
  "language_info": {
   "codemirror_mode": {
    "name": "ipython",
    "version": 3
   },
   "file_extension": ".py",
   "mimetype": "text/x-python",
   "name": "python",
   "nbconvert_exporter": "python",
   "pygments_lexer": "ipython3",
   "version": "3.7.4"
  }
 },
 "nbformat": 4,
 "nbformat_minor": 2
}
